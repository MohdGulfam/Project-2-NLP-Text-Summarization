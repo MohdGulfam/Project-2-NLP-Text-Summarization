{
  "nbformat": 4,
  "nbformat_minor": 0,
  "metadata": {
    "colab": {
      "name": "Text Summarization_NLP_Project-2.ipynb",
      "provenance": [],
      "collapsed_sections": []
    },
    "kernelspec": {
      "name": "python3",
      "display_name": "Python 3"
    }
  },
  "cells": [
    {
      "cell_type": "code",
      "metadata": {
        "colab": {
          "base_uri": "https://localhost:8080/"
        },
        "id": "Sg9ZbRmEZY9X",
        "outputId": "e2f38f78-24a2-462f-ef94-699c17ede0a9"
      },
      "source": [
        "#Import The Necessary Library For Text Summarization \r\n",
        "import nltk\r\n",
        "import string\r\n",
        "nltk.download('stopwords')\r\n",
        "nltk.download('punkt')\r\n",
        "from heapq import nlargest"
      ],
      "execution_count": 19,
      "outputs": [
        {
          "output_type": "stream",
          "text": [
            "[nltk_data] Downloading package stopwords to /root/nltk_data...\n",
            "[nltk_data]   Package stopwords is already up-to-date!\n",
            "[nltk_data] Downloading package punkt to /root/nltk_data...\n",
            "[nltk_data]   Package punkt is already up-to-date!\n"
          ],
          "name": "stdout"
        }
      ]
    },
    {
      "cell_type": "code",
      "metadata": {
        "id": "nn13o9W-ZZ5W"
      },
      "source": [
        "#Here Is the Text and Also Define Length Parameter \r\n",
        "text = \"Neural networks sometimes called as Artificial Neural networks(ANN’s), because they are not natural like neurons in your brain. They artifically mimic the nature and funtioning of Neural network. ANN’s are composed of a large number of highly interconnected processing elements (neurones) working in unison to solve specific problems.ANNs, like people,like child, they even learn by example. An ANN is configured for a specific application, such as pattern recognition or data classification,Image recognition, voice recognition through a learning process.Neural networks (NN) are universal function approximaters so that means neural networks can learn an approximation of any function f() such that.\"\r\n",
        "if text.count(\". \") > 20:\r\n",
        "    length = int(round(text.count(\". \")/10, 0))\r\n",
        "else:\r\n",
        "    length = 1"
      ],
      "execution_count": 20,
      "outputs": []
    },
    {
      "cell_type": "code",
      "metadata": {
        "colab": {
          "base_uri": "https://localhost:8080/"
        },
        "id": "gMyaRx8fZZ72",
        "outputId": "f9eb714b-eb4d-4669-bee1-bfc500a0f014"
      },
      "source": [
        "#Remove the Punctuation\r\n",
        "nopuch =[char for char in text if char not in string.punctuation]\r\n",
        "nopuch = \"\".join(nopuch)\r\n",
        "print(nopuch)"
      ],
      "execution_count": 21,
      "outputs": [
        {
          "output_type": "stream",
          "text": [
            "Neural networks sometimes called as Artificial Neural networksANN’s because they are not natural like neurons in your brain They artifically mimic the nature and funtioning of Neural network ANN’s are composed of a large number of highly interconnected processing elements neurones working in unison to solve specific problemsANNs like peoplelike child they even learn by example An ANN is configured for a specific application such as pattern recognition or data classificationImage recognition voice recognition through a learning processNeural networks NN are universal function approximaters so that means neural networks can learn an approximation of any function f such that\n"
          ],
          "name": "stdout"
        }
      ]
    },
    {
      "cell_type": "code",
      "metadata": {
        "colab": {
          "base_uri": "https://localhost:8080/"
        },
        "id": "qzsc_whYacRT",
        "outputId": "1311f23e-c41d-4593-fbf3-933651cbc6c9"
      },
      "source": [
        "#Remove the Stopward from the text \r\n",
        "processed_text = [word for word in nopuch.split() if word.lower() not in nltk.corpus.stopwords.words('english')]\r\n",
        "print(processed_text)"
      ],
      "execution_count": 22,
      "outputs": [
        {
          "output_type": "stream",
          "text": [
            "['Neural', 'networks', 'sometimes', 'called', 'Artificial', 'Neural', 'networksANN’s', 'natural', 'like', 'neurons', 'brain', 'artifically', 'mimic', 'nature', 'funtioning', 'Neural', 'network', 'ANN’s', 'composed', 'large', 'number', 'highly', 'interconnected', 'processing', 'elements', 'neurones', 'working', 'unison', 'solve', 'specific', 'problemsANNs', 'like', 'peoplelike', 'child', 'even', 'learn', 'example', 'ANN', 'configured', 'specific', 'application', 'pattern', 'recognition', 'data', 'classificationImage', 'recognition', 'voice', 'recognition', 'learning', 'processNeural', 'networks', 'NN', 'universal', 'function', 'approximaters', 'means', 'neural', 'networks', 'learn', 'approximation', 'function', 'f']\n"
          ],
          "name": "stdout"
        }
      ]
    },
    {
      "cell_type": "code",
      "metadata": {
        "colab": {
          "base_uri": "https://localhost:8080/"
        },
        "id": "eWgDU-8pacWS",
        "outputId": "ada6c1a4-d9d7-4697-997a-23190cae2d45"
      },
      "source": [
        "#Set the Frequancy \r\n",
        "word_freq = {}\r\n",
        "for word in processed_text:\r\n",
        "    if word not in word_freq:\r\n",
        "        word_freq[word] = 1\r\n",
        "    else:\r\n",
        "        word_freq[word] = word_freq[word] + 1\r\n",
        "print(word_freq)"
      ],
      "execution_count": 23,
      "outputs": [
        {
          "output_type": "stream",
          "text": [
            "{'Neural': 3, 'networks': 3, 'sometimes': 1, 'called': 1, 'Artificial': 1, 'networksANN’s': 1, 'natural': 1, 'like': 2, 'neurons': 1, 'brain': 1, 'artifically': 1, 'mimic': 1, 'nature': 1, 'funtioning': 1, 'network': 1, 'ANN’s': 1, 'composed': 1, 'large': 1, 'number': 1, 'highly': 1, 'interconnected': 1, 'processing': 1, 'elements': 1, 'neurones': 1, 'working': 1, 'unison': 1, 'solve': 1, 'specific': 2, 'problemsANNs': 1, 'peoplelike': 1, 'child': 1, 'even': 1, 'learn': 2, 'example': 1, 'ANN': 1, 'configured': 1, 'application': 1, 'pattern': 1, 'recognition': 3, 'data': 1, 'classificationImage': 1, 'voice': 1, 'learning': 1, 'processNeural': 1, 'NN': 1, 'universal': 1, 'function': 2, 'approximaters': 1, 'means': 1, 'neural': 1, 'approximation': 1, 'f': 1}\n"
          ],
          "name": "stdout"
        }
      ]
    },
    {
      "cell_type": "code",
      "metadata": {
        "colab": {
          "base_uri": "https://localhost:8080/"
        },
        "id": "j1ft32_dacaL",
        "outputId": "699eed00-1169-480c-e6f7-47106aa87819"
      },
      "source": [
        "#Check the max frequancy of words \r\n",
        "max_freq = max(word_freq.values())\r\n",
        "for word in word_freq.keys():\r\n",
        "    word_freq[word] = (word_freq[word]/max_freq)\r\n",
        "print(max_freq)"
      ],
      "execution_count": 24,
      "outputs": [
        {
          "output_type": "stream",
          "text": [
            "3\n"
          ],
          "name": "stdout"
        }
      ]
    },
    {
      "cell_type": "code",
      "metadata": {
        "id": "Jg7b4g23bhZa"
      },
      "source": [
        "sent_list = nltk.sent_tokenize(text)\r\n",
        "sent_score = {}\r\n",
        "for sent in sent_list:\r\n",
        "    for word in nltk.word_tokenize(sent.lower()):\r\n",
        "        if word in word_freq.keys():\r\n",
        "            if sent not in sent_score.keys():\r\n",
        "                sent_score[sent] = word_freq[word]\r\n",
        "            else:\r\n",
        "                sent_score[sent] = sent_score[sent] + word_freq[word]"
      ],
      "execution_count": 25,
      "outputs": []
    },
    {
      "cell_type": "code",
      "metadata": {
        "colab": {
          "base_uri": "https://localhost:8080/"
        },
        "id": "EwyghGXkbhdY",
        "outputId": "03b5d17a-f3d0-49a7-9007-ad1f40b03495"
      },
      "source": [
        "#Use The nlargst For Summary \r\n",
        "summary_sents = nlargest(length, sent_score, key=sent_score.get)\r\n",
        "summary = \" \".join(summary_sents)\r\n",
        "print(summary)"
      ],
      "execution_count": 26,
      "outputs": [
        {
          "output_type": "stream",
          "text": [
            "An ANN is configured for a specific application, such as pattern recognition or data classification,Image recognition, voice recognition through a learning process.Neural networks (NN) are universal function approximaters so that means neural networks can learn an approximation of any function f() such that.\n"
          ],
          "name": "stdout"
        }
      ]
    }
  ]
}